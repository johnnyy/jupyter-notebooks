{
 "cells": [
  {
   "cell_type": "markdown",
   "metadata": {},
   "source": [
    "# Mirror Fashion.\n",
    "\n",
    "## Bem-vindo à Mirror Fashion, sua loja de roupas e acessórios.\n",
    "\n",
    "- Confira nossas promoções.\n",
    "- Receba informações sobre nossos lançamentos por email.\n",
    "- Navegue por todos nossos produtos em catálogo.\n",
    "- Compre sem sair de casa.\n",
    "\n",
    "|--------------------|\n",
    "| col1 | col2 | col3 |\n",
    "|--------------------|\n",
    "\n"
   ]
  },
  {
   "cell_type": "code",
   "execution_count": null,
   "metadata": {
    "collapsed": true
   },
   "outputs": [],
   "source": []
  }
 ],
 "metadata": {
  "anaconda-cloud": {},
  "kernelspec": {
   "display_name": "Python [conda root]",
   "language": "python",
   "name": "conda-root-py"
  },
  "language_info": {
   "codemirror_mode": {
    "name": "ipython",
    "version": 2
   },
   "file_extension": ".py",
   "mimetype": "text/x-python",
   "name": "python",
   "nbconvert_exporter": "python",
   "pygments_lexer": "ipython2",
   "version": "2.7.12"
  }
 },
 "nbformat": 4,
 "nbformat_minor": 1
}
