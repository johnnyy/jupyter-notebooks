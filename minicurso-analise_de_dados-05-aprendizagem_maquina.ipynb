{
 "cells": [
  {
   "cell_type": "markdown",
   "metadata": {},
   "source": [
    "# Minicurso Análise de Dados usando Python\n",
    "## Parte 5 - Introdução ao Aprendizado de Máquina usando Python"
   ]
  },
  {
   "cell_type": "code",
   "execution_count": 1,
   "metadata": {
    "collapsed": true
   },
   "outputs": [],
   "source": [
    "import numpy as np"
   ]
  },
  {
   "cell_type": "markdown",
   "metadata": {},
   "source": [
    "### Carregando os dados (features e labels)"
   ]
  },
  {
   "cell_type": "code",
   "execution_count": 2,
   "metadata": {
    "collapsed": true
   },
   "outputs": [],
   "source": [
    "X = np.load('X.npy')\n",
    "X_transf = np.load('X_transf.npy')\n",
    "y = np.load('y.npy')"
   ]
  },
  {
   "cell_type": "markdown",
   "metadata": {},
   "source": [
    "### Treinando e avaliando o modelo"
   ]
  },
  {
   "cell_type": "code",
   "execution_count": 39,
   "metadata": {
    "collapsed": false
   },
   "outputs": [],
   "source": [
    "from sklearn.model_selection import cross_val_score\n",
    "from sklearn.linear_model import LogisticRegression\n",
    "from sklearn.metrics import accuracy_score"
   ]
  },
  {
   "cell_type": "code",
   "execution_count": 35,
   "metadata": {
    "collapsed": false
   },
   "outputs": [
    {
     "name": "stdout",
     "output_type": "stream",
     "text": [
      "(691, 77)\n",
      "(691, 77)\n",
      "(691, 77)\n",
      "(691, 77)\n",
      "(691, 77)\n",
      "(691, 77)\n",
      "(691, 77)\n",
      "(691, 77)\n",
      "(692, 76)\n",
      "(692, 76)\n",
      "[ 0.7012987   0.81818182  0.74025974  0.71428571  0.77922078  0.75324675\n",
      "  0.85714286  0.80519481  0.72368421  0.80263158]\n",
      "(0.76951469583048526, 0.048410519245671947)\n"
     ]
    }
   ],
   "source": [
    "num_folds = 10\n",
    "num_instances = len(X)\n",
    "seed = 7\n",
    "\n",
    "model = LogisticRegression()\n",
    "\n",
    "i = 0\n",
    "kfold = cross_validation.KFold(n=num_instances, n_folds=num_folds, random_state=seed)\n",
    "accuracy = np.zeros(num_folds)\n",
    "for train_idx, test_idx in kfold:\n",
    "    print(len(train_idx), len(test_idx))\n",
    "    \n",
    "    # TREINO\n",
    "    model.fit(X[train_idx], y[train_idx])    \n",
    "    \n",
    "    # FAZER PREDIÇÃO A PARTIR DO MODELO TREINADO\n",
    "    y_pred = model.predict(X[test_idx])\n",
    "    \n",
    "    # AVALIAR A TÉCNICA ATRAVÉS DA COMPARAÇÃO DO DADO REAL COM O DADO PREVISTO \n",
    "    accuracy[i] = accuracy_score(y[test_idx], y_pred)\n",
    "    i += 1\n",
    "\n",
    "print(accuracy)\n",
    "print(np.average(accuracy), np.std(accuracy))"
   ]
  },
  {
   "cell_type": "markdown",
   "metadata": {},
   "source": [
    "#### De forma mais automatizada e compacta..."
   ]
  },
  {
   "cell_type": "code",
   "execution_count": 40,
   "metadata": {
    "collapsed": false
   },
   "outputs": [
    {
     "name": "stdout",
     "output_type": "stream",
     "text": [
      "[ 0.7012987   0.81818182  0.74025974  0.71428571  0.77922078  0.75324675\n",
      "  0.85714286  0.80519481  0.72368421  0.80263158]\n",
      "Accuracy: 0.76951469583 0.0484105192457\n"
     ]
    }
   ],
   "source": [
    "results = cross_validation.cross_val_score(model, X, y, cv=kfold)\n",
    "print(results)\n",
    "print(\"Accuracy: {} {}\".format(results.mean(), results.std()) )"
   ]
  },
  {
   "cell_type": "code",
   "execution_count": 41,
   "metadata": {
    "collapsed": false
   },
   "outputs": [
    {
     "name": "stdout",
     "output_type": "stream",
     "text": [
      "[ 0.68831169  0.83116883  0.76623377  0.7012987   0.77922078  0.79220779\n",
      "  0.84415584  0.83116883  0.76315789  0.80263158]\n",
      "Accuracy: 0.779955570745 0.050088006076\n"
     ]
    }
   ],
   "source": [
    "results = cross_validation.cross_val_score(model, X_transf, y, cv=kfold)\n",
    "print(results)\n",
    "print(\"Accuracy: {} {}\".format(results.mean(), results.std()) )"
   ]
  },
  {
   "cell_type": "markdown",
   "metadata": {},
   "source": [
    "### Usando outra técnica"
   ]
  },
  {
   "cell_type": "code",
   "execution_count": 42,
   "metadata": {
    "collapsed": true
   },
   "outputs": [],
   "source": [
    "from sklearn.ensemble import GradientBoostingClassifier"
   ]
  },
  {
   "cell_type": "code",
   "execution_count": 45,
   "metadata": {
    "collapsed": true
   },
   "outputs": [],
   "source": [
    "model2 = GradientBoostingClassifier()"
   ]
  },
  {
   "cell_type": "code",
   "execution_count": 46,
   "metadata": {
    "collapsed": false
   },
   "outputs": [
    {
     "name": "stdout",
     "output_type": "stream",
     "text": [
      "[ 0.72727273  0.81818182  0.74025974  0.63636364  0.79220779  0.79220779\n",
      "  0.80519481  0.83116883  0.72368421  0.78947368]\n",
      "Accuracy: 0.765601503759 0.0558460826752\n"
     ]
    }
   ],
   "source": [
    "results = cross_validation.cross_val_score(model2, X, y, cv=kfold)\n",
    "print(results)\n",
    "print(\"Accuracy: {} {}\".format(results.mean(), results.std()) )"
   ]
  },
  {
   "cell_type": "code",
   "execution_count": 47,
   "metadata": {
    "collapsed": false
   },
   "outputs": [
    {
     "name": "stdout",
     "output_type": "stream",
     "text": [
      "[ 0.74025974  0.83116883  0.72727273  0.63636364  0.79220779  0.79220779\n",
      "  0.80519481  0.83116883  0.72368421  0.78947368]\n",
      "Accuracy: 0.766900205058 0.0571886074405\n"
     ]
    }
   ],
   "source": [
    "results = cross_validation.cross_val_score(model2, X_transf, y, cv=kfold)\n",
    "print(results)\n",
    "print(\"Accuracy: {} {}\".format(results.mean(), results.std()) )"
   ]
  },
  {
   "cell_type": "markdown",
   "metadata": {},
   "source": [
    "### Mudando os Hiper-parâmetros"
   ]
  },
  {
   "cell_type": "code",
   "execution_count": 77,
   "metadata": {
    "collapsed": false
   },
   "outputs": [
    {
     "name": "stdout",
     "output_type": "stream",
     "text": [
      "[ 0.71428571  0.85714286  0.72727273  0.63636364  0.79220779  0.81818182\n",
      "  0.81818182  0.85714286  0.73684211  0.78947368]\n",
      "Accuracy: 0.774709501025 0.0666101883031\n"
     ]
    }
   ],
   "source": [
    "model3 = GradientBoostingClassifier(n_estimators=50, max_depth=3, learning_rate=0.05)\n",
    "results = cross_validation.cross_val_score(model3, X_transf, y, cv=kfold)\n",
    "print(results)\n",
    "print(\"Accuracy: {} {}\".format(results.mean(), results.std()) )"
   ]
  },
  {
   "cell_type": "code",
   "execution_count": null,
   "metadata": {
    "collapsed": true
   },
   "outputs": [],
   "source": []
  }
 ],
 "metadata": {
  "anaconda-cloud": {},
  "kernelspec": {
   "display_name": "Python [default]",
   "language": "python",
   "name": "python2"
  },
  "language_info": {
   "codemirror_mode": {
    "name": "ipython",
    "version": 2
   },
   "file_extension": ".py",
   "mimetype": "text/x-python",
   "name": "python",
   "nbconvert_exporter": "python",
   "pygments_lexer": "ipython2",
   "version": "2.7.12"
  }
 },
 "nbformat": 4,
 "nbformat_minor": 1
}
